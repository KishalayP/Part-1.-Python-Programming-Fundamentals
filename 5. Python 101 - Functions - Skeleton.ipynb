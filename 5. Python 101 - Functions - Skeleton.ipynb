{
 "cells": [
  {
   "cell_type": "markdown",
   "metadata": {
    "id": "2qdHbV6LKCdn"
   },
   "source": [
    "# 1. BUILT-IN FUNCTIONS"
   ]
  },
  {
   "cell_type": "code",
   "execution_count": null,
   "metadata": {
    "id": "e027nLRtKclL"
   },
   "outputs": [],
   "source": [
    "# There are many built-in functions that you can leverage directly \n",
    "# Let's define 2 lists x and y\n",
    "x=[4,5,1,2,8,5]\n",
    "y=list(range(1,7))"
   ]
  },
  {
   "cell_type": "code",
   "execution_count": null,
   "metadata": {
    "colab": {
     "base_uri": "https://localhost:8080/",
     "height": 34
    },
    "executionInfo": {
     "elapsed": 82,
     "status": "ok",
     "timestamp": 1602409472428,
     "user": {
      "displayName": "Kishalay Pandey",
      "photoUrl": "https://lh3.googleusercontent.com/a-/AOh14Gj2tFsmd8Ez-c0OPNkR8sUrBNBZ7p7l6gLebnZE=s64",
      "userId": "15833743162450854740"
     },
     "user_tz": -330
    },
    "id": "B_q1ds-xKcnQ",
    "outputId": "19c52d0b-2553-4d36-90e3-ab747cdf3d6e"
   },
   "outputs": [
    {
     "data": {
      "text/plain": [
       "[4, 5, 1, 2, 8, 5]"
      ]
     },
     "execution_count": 2,
     "metadata": {
      "tags": []
     },
     "output_type": "execute_result"
    }
   ],
   "source": [
    "x"
   ]
  },
  {
   "cell_type": "code",
   "execution_count": null,
   "metadata": {
    "colab": {
     "base_uri": "https://localhost:8080/",
     "height": 34
    },
    "executionInfo": {
     "elapsed": 81,
     "status": "ok",
     "timestamp": 1602409501161,
     "user": {
      "displayName": "Kishalay Pandey",
      "photoUrl": "https://lh3.googleusercontent.com/a-/AOh14Gj2tFsmd8Ez-c0OPNkR8sUrBNBZ7p7l6gLebnZE=s64",
      "userId": "15833743162450854740"
     },
     "user_tz": -330
    },
    "id": "wlYds_UIK3Uq",
    "outputId": "b2c60ac0-fb90-43b2-d1d4-0bc39f9ac4b7"
   },
   "outputs": [
    {
     "data": {
      "text/plain": [
       "[1, 2, 3, 4, 5, 6]"
      ]
     },
     "execution_count": 5,
     "metadata": {
      "tags": []
     },
     "output_type": "execute_result"
    }
   ],
   "source": [
    "y"
   ]
  },
  {
   "cell_type": "code",
   "execution_count": null,
   "metadata": {
    "colab": {
     "base_uri": "https://localhost:8080/",
     "height": 34
    },
    "executionInfo": {
     "elapsed": 113,
     "status": "ok",
     "timestamp": 1602409525140,
     "user": {
      "displayName": "Kishalay Pandey",
      "photoUrl": "https://lh3.googleusercontent.com/a-/AOh14Gj2tFsmd8Ez-c0OPNkR8sUrBNBZ7p7l6gLebnZE=s64",
      "userId": "15833743162450854740"
     },
     "user_tz": -330
    },
    "id": "sOb6YyohK3XA",
    "outputId": "6076587d-4bc8-4329-a8fb-b85f995b942a"
   },
   "outputs": [
    {
     "data": {
      "text/plain": [
       "6"
      ]
     },
     "execution_count": 6,
     "metadata": {
      "tags": []
     },
     "output_type": "execute_result"
    }
   ],
   "source": [
    "# Let's obtain the length of y\n",
    "len(y)"
   ]
  },
  {
   "cell_type": "code",
   "execution_count": null,
   "metadata": {
    "colab": {
     "base_uri": "https://localhost:8080/",
     "height": 34
    },
    "executionInfo": {
     "elapsed": 80,
     "status": "ok",
     "timestamp": 1602409542466,
     "user": {
      "displayName": "Kishalay Pandey",
      "photoUrl": "https://lh3.googleusercontent.com/a-/AOh14Gj2tFsmd8Ez-c0OPNkR8sUrBNBZ7p7l6gLebnZE=s64",
      "userId": "15833743162450854740"
     },
     "user_tz": -330
    },
    "id": "E2d-scjBK3f_",
    "outputId": "df159f50-6b3d-4a70-e095-48ebc3421af9"
   },
   "outputs": [
    {
     "data": {
      "text/plain": [
       "1"
      ]
     },
     "execution_count": 8,
     "metadata": {
      "tags": []
     },
     "output_type": "execute_result"
    }
   ],
   "source": [
    "# Let's obtain the minimum value \n",
    "min(x)"
   ]
  },
  {
   "cell_type": "code",
   "execution_count": null,
   "metadata": {
    "colab": {
     "base_uri": "https://localhost:8080/",
     "height": 34
    },
    "executionInfo": {
     "elapsed": 111,
     "status": "ok",
     "timestamp": 1602409546939,
     "user": {
      "displayName": "Kishalay Pandey",
      "photoUrl": "https://lh3.googleusercontent.com/a-/AOh14Gj2tFsmd8Ez-c0OPNkR8sUrBNBZ7p7l6gLebnZE=s64",
      "userId": "15833743162450854740"
     },
     "user_tz": -330
    },
    "id": "MPcUuoY6K3id",
    "outputId": "8ed15a93-67f7-45a2-c544-cc04a932a9af"
   },
   "outputs": [
    {
     "data": {
      "text/plain": [
       "8"
      ]
     },
     "execution_count": 9,
     "metadata": {
      "tags": []
     },
     "output_type": "execute_result"
    }
   ],
   "source": [
    "# Let's obtain the maximum value\n",
    "max(x)"
   ]
  },
  {
   "cell_type": "code",
   "execution_count": null,
   "metadata": {
    "id": "oo4EvfwgK3nQ"
   },
   "outputs": [],
   "source": [
    "# Let's create a tuple out of the list\n",
    "z=tuple(x)"
   ]
  },
  {
   "cell_type": "code",
   "execution_count": null,
   "metadata": {
    "colab": {
     "base_uri": "https://localhost:8080/",
     "height": 34
    },
    "executionInfo": {
     "elapsed": 73,
     "status": "ok",
     "timestamp": 1602409639557,
     "user": {
      "displayName": "Kishalay Pandey",
      "photoUrl": "https://lh3.googleusercontent.com/a-/AOh14Gj2tFsmd8Ez-c0OPNkR8sUrBNBZ7p7l6gLebnZE=s64",
      "userId": "15833743162450854740"
     },
     "user_tz": -330
    },
    "id": "gbcSW9n5Lrf0",
    "outputId": "98d4bc8a-eee2-419a-f9fa-17fec7729437"
   },
   "outputs": [
    {
     "data": {
      "text/plain": [
       "(4, 5, 1, 2, 8, 5)"
      ]
     },
     "execution_count": 11,
     "metadata": {
      "tags": []
     },
     "output_type": "execute_result"
    }
   ],
   "source": [
    "z"
   ]
  },
  {
   "cell_type": "code",
   "execution_count": null,
   "metadata": {
    "colab": {
     "base_uri": "https://localhost:8080/",
     "height": 34
    },
    "executionInfo": {
     "elapsed": 114,
     "status": "ok",
     "timestamp": 1602409644455,
     "user": {
      "displayName": "Kishalay Pandey",
      "photoUrl": "https://lh3.googleusercontent.com/a-/AOh14Gj2tFsmd8Ez-c0OPNkR8sUrBNBZ7p7l6gLebnZE=s64",
      "userId": "15833743162450854740"
     },
     "user_tz": -330
    },
    "id": "S-BLWy_AK3lL",
    "outputId": "2187ec20-c8a1-439d-f5d8-a0db125c45db"
   },
   "outputs": [
    {
     "data": {
      "text/plain": [
       "tuple"
      ]
     },
     "execution_count": 12,
     "metadata": {
      "tags": []
     },
     "output_type": "execute_result"
    }
   ],
   "source": [
    "type(z)"
   ]
  },
  {
   "cell_type": "code",
   "execution_count": null,
   "metadata": {
    "colab": {
     "base_uri": "https://localhost:8080/",
     "height": 34
    },
    "executionInfo": {
     "elapsed": 83,
     "status": "ok",
     "timestamp": 1602409650436,
     "user": {
      "displayName": "Kishalay Pandey",
      "photoUrl": "https://lh3.googleusercontent.com/a-/AOh14Gj2tFsmd8Ez-c0OPNkR8sUrBNBZ7p7l6gLebnZE=s64",
      "userId": "15833743162450854740"
     },
     "user_tz": -330
    },
    "id": "NYVetBn-Kcpk",
    "outputId": "d6b0e84f-c17b-4860-ca65-ad6b56e81d7b"
   },
   "outputs": [
    {
     "data": {
      "text/plain": [
       "25"
      ]
     },
     "execution_count": 13,
     "metadata": {
      "tags": []
     },
     "output_type": "execute_result"
    }
   ],
   "source": [
    "# Let's obtain the sum of elements in x\n",
    "sum(x)"
   ]
  },
  {
   "cell_type": "markdown",
   "metadata": {
    "id": "CvaYA-XocFOc"
   },
   "source": [
    "**MINI CHALLENGE #1:**\n",
    "- **Write a code that takes in 2 lists x = [-1 -4 -7] and y = [-3 7 4] and  calculates the absolute sum of all its elements |x+y|**\n"
   ]
  },
  {
   "cell_type": "code",
   "execution_count": null,
   "metadata": {
    "colab": {
     "base_uri": "https://localhost:8080/",
     "height": 34
    },
    "executionInfo": {
     "elapsed": 83,
     "status": "ok",
     "timestamp": 1602411319724,
     "user": {
      "displayName": "Kishalay Pandey",
      "photoUrl": "https://lh3.googleusercontent.com/a-/AOh14Gj2tFsmd8Ez-c0OPNkR8sUrBNBZ7p7l6gLebnZE=s64",
      "userId": "15833743162450854740"
     },
     "user_tz": -330
    },
    "id": "DMYqI7CBekNI",
    "outputId": "1df0480e-4f9a-41b5-c00b-fcf912111f1b"
   },
   "outputs": [
    {
     "data": {
      "text/plain": [
       "4"
      ]
     },
     "execution_count": 44,
     "metadata": {
      "tags": []
     },
     "output_type": "execute_result"
    }
   ],
   "source": [
    "x = [-1, -4, -7]\n",
    "y = [-3, 7, 4]\n",
    "z = abs(sum(x)+sum(y))\n",
    "z"
   ]
  },
  {
   "cell_type": "markdown",
   "metadata": {
    "id": "AHrwK11xMArY"
   },
   "source": [
    "# 2. FUNCTIONS"
   ]
  },
  {
   "cell_type": "code",
   "execution_count": 1,
   "metadata": {
    "executionInfo": {
     "elapsed": 153,
     "status": "ok",
     "timestamp": 1602659590014,
     "user": {
      "displayName": "Kishalay Pandey",
      "photoUrl": "https://lh3.googleusercontent.com/a-/AOh14Gj2tFsmd8Ez-c0OPNkR8sUrBNBZ7p7l6gLebnZE=s64",
      "userId": "15833743162450854740"
     },
     "user_tz": -330
    },
    "id": "LhhFvM60MGrX"
   },
   "outputs": [],
   "source": [
    "# Let's define a function named \"my_function\" that does not receive any arguments\n",
    "# The function simply prints out content and does not return anything\n",
    "def my_function():\n",
    "  print(\"Welcom to Python for Finance course!\")"
   ]
  },
  {
   "cell_type": "code",
   "execution_count": 2,
   "metadata": {
    "colab": {
     "base_uri": "https://localhost:8080/",
     "height": 34
    },
    "executionInfo": {
     "elapsed": 98,
     "status": "ok",
     "timestamp": 1602659598827,
     "user": {
      "displayName": "Kishalay Pandey",
      "photoUrl": "https://lh3.googleusercontent.com/a-/AOh14Gj2tFsmd8Ez-c0OPNkR8sUrBNBZ7p7l6gLebnZE=s64",
      "userId": "15833743162450854740"
     },
     "user_tz": -330
    },
    "id": "-jJdkGlGMGwE",
    "outputId": "90414f07-6392-427d-ba27-c04a41c7c7e3"
   },
   "outputs": [
    {
     "name": "stdout",
     "output_type": "stream",
     "text": [
      "Welcom to Python for Finance course!\n"
     ]
    }
   ],
   "source": [
    "# Function call\n",
    "my_function()"
   ]
  },
  {
   "cell_type": "code",
   "execution_count": 16,
   "metadata": {
    "executionInfo": {
     "elapsed": 77,
     "status": "ok",
     "timestamp": 1602659923618,
     "user": {
      "displayName": "Kishalay Pandey",
      "photoUrl": "https://lh3.googleusercontent.com/a-/AOh14Gj2tFsmd8Ez-c0OPNkR8sUrBNBZ7p7l6gLebnZE=s64",
      "userId": "15833743162450854740"
     },
     "user_tz": -330
    },
    "id": "OSVyOu91MGuW"
   },
   "outputs": [],
   "source": [
    "# Define a function that takes in argument x and return the squared value \n",
    "def sqrd(x):\n",
    "  print(\"Square of {} is {}\".format(x,x*x))\n",
    "  return x**2"
   ]
  },
  {
   "cell_type": "code",
   "execution_count": 17,
   "metadata": {
    "colab": {
     "base_uri": "https://localhost:8080/",
     "height": 51
    },
    "executionInfo": {
     "elapsed": 67,
     "status": "ok",
     "timestamp": 1602659924294,
     "user": {
      "displayName": "Kishalay Pandey",
      "photoUrl": "https://lh3.googleusercontent.com/a-/AOh14Gj2tFsmd8Ez-c0OPNkR8sUrBNBZ7p7l6gLebnZE=s64",
      "userId": "15833743162450854740"
     },
     "user_tz": -330
    },
    "id": "NVPrMz2_MPz1",
    "outputId": "6b7f8ca5-d9b6-4e98-8f98-fad913444bb5"
   },
   "outputs": [
    {
     "name": "stdout",
     "output_type": "stream",
     "text": [
      "Square of 2 is 4\n"
     ]
    },
    {
     "data": {
      "text/plain": [
       "4"
      ]
     },
     "execution_count": 17,
     "metadata": {
      "tags": []
     },
     "output_type": "execute_result"
    }
   ],
   "source": [
    "# Call the function\n",
    "sqrd(2)"
   ]
  },
  {
   "cell_type": "code",
   "execution_count": 18,
   "metadata": {
    "executionInfo": {
     "elapsed": 93,
     "status": "ok",
     "timestamp": 1602659939640,
     "user": {
      "displayName": "Kishalay Pandey",
      "photoUrl": "https://lh3.googleusercontent.com/a-/AOh14Gj2tFsmd8Ez-c0OPNkR8sUrBNBZ7p7l6gLebnZE=s64",
      "userId": "15833743162450854740"
     },
     "user_tz": -330
    },
    "id": "6ET-hFiSMPxi"
   },
   "outputs": [],
   "source": [
    "# Define a function with default value \n",
    "def default(y=20000):\n",
    "  print(\"My total portfolio worth is = {}\".format(y))\n",
    "  return y"
   ]
  },
  {
   "cell_type": "code",
   "execution_count": 19,
   "metadata": {
    "colab": {
     "base_uri": "https://localhost:8080/",
     "height": 51
    },
    "executionInfo": {
     "elapsed": 89,
     "status": "ok",
     "timestamp": 1602659940813,
     "user": {
      "displayName": "Kishalay Pandey",
      "photoUrl": "https://lh3.googleusercontent.com/a-/AOh14Gj2tFsmd8Ez-c0OPNkR8sUrBNBZ7p7l6gLebnZE=s64",
      "userId": "15833743162450854740"
     },
     "user_tz": -330
    },
    "id": "-tiaDshNM48J",
    "outputId": "5dc42be6-e5db-4847-ea65-bbc89de662e3"
   },
   "outputs": [
    {
     "name": "stdout",
     "output_type": "stream",
     "text": [
      "My total portfolio worth is = 60000\n"
     ]
    },
    {
     "data": {
      "text/plain": [
       "60000"
      ]
     },
     "execution_count": 19,
     "metadata": {
      "tags": []
     },
     "output_type": "execute_result"
    }
   ],
   "source": [
    "# If you pass an argument to the function, it overwrites the default value \n",
    "default(60000)"
   ]
  },
  {
   "cell_type": "code",
   "execution_count": 20,
   "metadata": {
    "colab": {
     "base_uri": "https://localhost:8080/",
     "height": 51
    },
    "executionInfo": {
     "elapsed": 68,
     "status": "ok",
     "timestamp": 1602659944151,
     "user": {
      "displayName": "Kishalay Pandey",
      "photoUrl": "https://lh3.googleusercontent.com/a-/AOh14Gj2tFsmd8Ez-c0OPNkR8sUrBNBZ7p7l6gLebnZE=s64",
      "userId": "15833743162450854740"
     },
     "user_tz": -330
    },
    "id": "-cPR_Cg-M6nm",
    "outputId": "1b66268f-3485-42a1-c7f0-9a45a7d6d652"
   },
   "outputs": [
    {
     "name": "stdout",
     "output_type": "stream",
     "text": [
      "My total portfolio worth is = 20000\n"
     ]
    },
    {
     "data": {
      "text/plain": [
       "20000"
      ]
     },
     "execution_count": 20,
     "metadata": {
      "tags": []
     },
     "output_type": "execute_result"
    }
   ],
   "source": [
    "# If you don't pass an argument, the default value \"20000\" will be used instead\n",
    "default()"
   ]
  },
  {
   "cell_type": "markdown",
   "metadata": {
    "id": "DB1zlBEEfDlA"
   },
   "source": [
    "**MINI CHALLENGE #2:** \n",
    "- **Write a code that takes in two inputs (number of shares and prices) from the user and calculate the total account balance**"
   ]
  },
  {
   "cell_type": "code",
   "execution_count": null,
   "metadata": {
    "id": "s7fbv5eApK97"
   },
   "outputs": [],
   "source": [
    " class ACC_balance():\n",
    "  def acc_bal(x,y):\n",
    "    Val=(int(x))*(int(y))\n",
    "    return Val\n",
    "  def caller():\n",
    "    i=True\n",
    "    t_bal=0\n",
    "    ts=0\n",
    "    ps=0\n",
    "    while i==True:\n",
    "      nm=input(\"Enter the name of share: \")\n",
    "      ns=int(input(\"Enter the number of shares: \"))\n",
    "      pr=int(input(\"Enter the price of shares: \"))\n",
    "      t_bal=t_bal+acc_bal(ns,pr)\n",
    "      ts=ns+ts\n",
    "      ps=ps+pr\n",
    "      c=input(\"Press any key to continue else press n to exit: \")\n",
    "      if c.lower()=='n':\n",
    "        i=False\n",
    "    print(l1) \n",
    "    print(\"No. of Shares  \\\\\\   Value of Shares   \\\\\\   Total Account Balance\")\n",
    "    print(\"     {}        \\\\\\         {}          \\\\\\            {}\".format(ts,ps,t_bal))\n",
    "caller()"
   ]
  },
  {
   "cell_type": "markdown",
   "metadata": {
    "id": "lBj4QkQEpLkX"
   },
   "source": [
    "# 3. LAMBDA EXPRESSIONS "
   ]
  },
  {
   "cell_type": "code",
   "execution_count": null,
   "metadata": {
    "id": "YtkjNLEypRTb"
   },
   "outputs": [],
   "source": [
    "# Lambda function is used to create a function without a name \n",
    "# Lambda functions are mainly used with filter() and map() [they will be discussed later on]. \n",
    "# Lambda function can receive any number of arguments, but can only have one expression."
   ]
  },
  {
   "cell_type": "code",
   "execution_count": 86,
   "metadata": {
    "executionInfo": {
     "elapsed": 85,
     "status": "ok",
     "timestamp": 1602701297641,
     "user": {
      "displayName": "Kishalay Pandey",
      "photoUrl": "https://lh3.googleusercontent.com/a-/AOh14Gj2tFsmd8Ez-c0OPNkR8sUrBNBZ7p7l6gLebnZE=s64",
      "userId": "15833743162450854740"
     },
     "user_tz": -330
    },
    "id": "FV5-hEWdpRdd"
   },
   "outputs": [],
   "source": [
    "# let's see how to create a basic function that squares the input\n",
    "def sqrd(x):\n",
    "  return x*x"
   ]
  },
  {
   "cell_type": "code",
   "execution_count": 87,
   "metadata": {
    "colab": {
     "base_uri": "https://localhost:8080/",
     "height": 34
    },
    "executionInfo": {
     "elapsed": 86,
     "status": "ok",
     "timestamp": 1602701302066,
     "user": {
      "displayName": "Kishalay Pandey",
      "photoUrl": "https://lh3.googleusercontent.com/a-/AOh14Gj2tFsmd8Ez-c0OPNkR8sUrBNBZ7p7l6gLebnZE=s64",
      "userId": "15833743162450854740"
     },
     "user_tz": -330
    },
    "id": "cQZDrvwCpRa3",
    "outputId": "03f3580c-257f-42e8-cca1-970c45cf10c1"
   },
   "outputs": [
    {
     "data": {
      "text/plain": [
       "9"
      ]
     },
     "execution_count": 87,
     "metadata": {
      "tags": []
     },
     "output_type": "execute_result"
    }
   ],
   "source": [
    "# Function call\n",
    "sqrd(3)"
   ]
  },
  {
   "cell_type": "code",
   "execution_count": 91,
   "metadata": {
    "executionInfo": {
     "elapsed": 59,
     "status": "ok",
     "timestamp": 1602701357524,
     "user": {
      "displayName": "Kishalay Pandey",
      "photoUrl": "https://lh3.googleusercontent.com/a-/AOh14Gj2tFsmd8Ez-c0OPNkR8sUrBNBZ7p7l6gLebnZE=s64",
      "userId": "15833743162450854740"
     },
     "user_tz": -330
    },
    "id": "r5u0-IOBpRZq"
   },
   "outputs": [],
   "source": [
    "# We can do the same task using Lambda expression\n",
    "# Note that there is no function name\n",
    "y=lambda x:x**2"
   ]
  },
  {
   "cell_type": "code",
   "execution_count": 92,
   "metadata": {
    "colab": {
     "base_uri": "https://localhost:8080/",
     "height": 34
    },
    "executionInfo": {
     "elapsed": 67,
     "status": "ok",
     "timestamp": 1602701358515,
     "user": {
      "displayName": "Kishalay Pandey",
      "photoUrl": "https://lh3.googleusercontent.com/a-/AOh14Gj2tFsmd8Ez-c0OPNkR8sUrBNBZ7p7l6gLebnZE=s64",
      "userId": "15833743162450854740"
     },
     "user_tz": -330
    },
    "id": "hLsuWg7apRW9",
    "outputId": "4905f6ab-6498-4f84-b454-020aba02b7ff"
   },
   "outputs": [
    {
     "data": {
      "text/plain": [
       "9"
      ]
     },
     "execution_count": 92,
     "metadata": {
      "tags": []
     },
     "output_type": "execute_result"
    }
   ],
   "source": [
    "y(3)"
   ]
  },
  {
   "cell_type": "code",
   "execution_count": 101,
   "metadata": {
    "executionInfo": {
     "elapsed": 64,
     "status": "ok",
     "timestamp": 1602701471966,
     "user": {
      "displayName": "Kishalay Pandey",
      "photoUrl": "https://lh3.googleusercontent.com/a-/AOh14Gj2tFsmd8Ez-c0OPNkR8sUrBNBZ7p7l6gLebnZE=s64",
      "userId": "15833743162450854740"
     },
     "user_tz": -330
    },
    "id": "OKcE7JHBuzTj"
   },
   "outputs": [],
   "source": [
    "# Note that lambda expression can take in more than one argument \n",
    "# there is only one expression that could be performed\n",
    "def sumation(x,y,z):\n",
    "  return x+y+z"
   ]
  },
  {
   "cell_type": "code",
   "execution_count": 102,
   "metadata": {
    "colab": {
     "base_uri": "https://localhost:8080/",
     "height": 34
    },
    "executionInfo": {
     "elapsed": 85,
     "status": "ok",
     "timestamp": 1602701473126,
     "user": {
      "displayName": "Kishalay Pandey",
      "photoUrl": "https://lh3.googleusercontent.com/a-/AOh14Gj2tFsmd8Ez-c0OPNkR8sUrBNBZ7p7l6gLebnZE=s64",
      "userId": "15833743162450854740"
     },
     "user_tz": -330
    },
    "id": "VyEdRTwXuzQ4",
    "outputId": "cc8a397d-c0ae-49af-b9d2-a4c874e7731d"
   },
   "outputs": [
    {
     "data": {
      "text/plain": [
       "6"
      ]
     },
     "execution_count": 102,
     "metadata": {
      "tags": []
     },
     "output_type": "execute_result"
    }
   ],
   "source": [
    "result=sumation(1,2,3)\n",
    "result"
   ]
  },
  {
   "cell_type": "code",
   "execution_count": 103,
   "metadata": {
    "executionInfo": {
     "elapsed": 75,
     "status": "ok",
     "timestamp": 1602701473981,
     "user": {
      "displayName": "Kishalay Pandey",
      "photoUrl": "https://lh3.googleusercontent.com/a-/AOh14Gj2tFsmd8Ez-c0OPNkR8sUrBNBZ7p7l6gLebnZE=s64",
      "userId": "15833743162450854740"
     },
     "user_tz": -330
    },
    "id": "kAuNql-zuzPE"
   },
   "outputs": [],
   "source": [
    "result=lambda x,y,z:x+y+z"
   ]
  },
  {
   "cell_type": "code",
   "execution_count": 104,
   "metadata": {
    "colab": {
     "base_uri": "https://localhost:8080/",
     "height": 34
    },
    "executionInfo": {
     "elapsed": 63,
     "status": "ok",
     "timestamp": 1602701474507,
     "user": {
      "displayName": "Kishalay Pandey",
      "photoUrl": "https://lh3.googleusercontent.com/a-/AOh14Gj2tFsmd8Ez-c0OPNkR8sUrBNBZ7p7l6gLebnZE=s64",
      "userId": "15833743162450854740"
     },
     "user_tz": -330
    },
    "id": "8PfLE79Lvuvg",
    "outputId": "4f3df6b4-d9c2-4277-fc67-56b583e6a6cf"
   },
   "outputs": [
    {
     "data": {
      "text/plain": [
       "6"
      ]
     },
     "execution_count": 104,
     "metadata": {
      "tags": []
     },
     "output_type": "execute_result"
    }
   ],
   "source": [
    "result(1,2,3)"
   ]
  },
  {
   "cell_type": "markdown",
   "metadata": {
    "id": "KTRBKK97fQGG"
   },
   "source": [
    "**MINI CHALLENGE #3:**\n",
    "- **Repeat mini challenge #2 (Write a code that takes in two inputs from the user and calculates the total) using lambda expressions instead**"
   ]
  },
  {
   "cell_type": "code",
   "execution_count": 111,
   "metadata": {
    "colab": {
     "base_uri": "https://localhost:8080/",
     "height": 68
    },
    "executionInfo": {
     "elapsed": 5252,
     "status": "ok",
     "timestamp": 1602701821103,
     "user": {
      "displayName": "Kishalay Pandey",
      "photoUrl": "https://lh3.googleusercontent.com/a-/AOh14Gj2tFsmd8Ez-c0OPNkR8sUrBNBZ7p7l6gLebnZE=s64",
      "userId": "15833743162450854740"
     },
     "user_tz": -330
    },
    "id": "jz5bvTOmuHhG",
    "outputId": "32648031-4113-4b10-dd8c-3c082e4c5068"
   },
   "outputs": [
    {
     "name": "stdout",
     "output_type": "stream",
     "text": [
      "Enter the number of shares: 55\n",
      "Enter the price of share: 2\n",
      "The sum of 55 and 2 is 110\n"
     ]
    }
   ],
   "source": [
    "x=int(input(\"Enter the number of shares: \"))\n",
    "y=int(input(\"Enter the price of share: \"))\n",
    "z=lambda a,b:a*b\n",
    "\n",
    "print(\"The sum of {} and {} is {}\".format(x,y,z(x,y)))"
   ]
  },
  {
   "cell_type": "markdown",
   "metadata": {
    "id": "S8pekOcjKF6H"
   },
   "source": [
    "# 4. MAP "
   ]
  },
  {
   "cell_type": "code",
   "execution_count": 112,
   "metadata": {
    "executionInfo": {
     "elapsed": 103,
     "status": "ok",
     "timestamp": 1602703803809,
     "user": {
      "displayName": "Kishalay Pandey",
      "photoUrl": "https://lh3.googleusercontent.com/a-/AOh14Gj2tFsmd8Ez-c0OPNkR8sUrBNBZ7p7l6gLebnZE=s64",
      "userId": "15833743162450854740"
     },
     "user_tz": -330
    },
    "id": "-zx6IFX7KdKi"
   },
   "outputs": [],
   "source": [
    "# The map() function takes in a function and a list.\n",
    "# map() performs an operation on the entire list and return the results in a new list.\n",
    "# Define two lists a and b\n",
    "a=[1,4,5,6,9]\n",
    "b=[1,7,9,12,7]"
   ]
  },
  {
   "cell_type": "code",
   "execution_count": 113,
   "metadata": {
    "executionInfo": {
     "elapsed": 89,
     "status": "ok",
     "timestamp": 1602703826805,
     "user": {
      "displayName": "Kishalay Pandey",
      "photoUrl": "https://lh3.googleusercontent.com/a-/AOh14Gj2tFsmd8Ez-c0OPNkR8sUrBNBZ7p7l6gLebnZE=s64",
      "userId": "15833743162450854740"
     },
     "user_tz": -330
    },
    "id": "l4AEJ33iih46"
   },
   "outputs": [],
   "source": [
    "# Let's define a function that adds two elements together\n",
    "def sumation(a,b):\n",
    "  return a+b"
   ]
  },
  {
   "cell_type": "code",
   "execution_count": 116,
   "metadata": {
    "colab": {
     "base_uri": "https://localhost:8080/",
     "height": 34
    },
    "executionInfo": {
     "elapsed": 73,
     "status": "ok",
     "timestamp": 1602703912577,
     "user": {
      "displayName": "Kishalay Pandey",
      "photoUrl": "https://lh3.googleusercontent.com/a-/AOh14Gj2tFsmd8Ez-c0OPNkR8sUrBNBZ7p7l6gLebnZE=s64",
      "userId": "15833743162450854740"
     },
     "user_tz": -330
    },
    "id": "8ZEm6BjIKdQ7",
    "outputId": "6c8a5bcc-5f72-44dd-d758-29ce1060bccd"
   },
   "outputs": [
    {
     "data": {
      "text/plain": [
       "[2, 11, 14, 18, 16]"
      ]
     },
     "execution_count": 116,
     "metadata": {
      "tags": []
     },
     "output_type": "execute_result"
    }
   ],
   "source": [
    "# You can now use map() to apply a function to the entire list and generate a new list\n",
    "c=list(map(sumation,a,b))\n",
    "c"
   ]
  },
  {
   "cell_type": "code",
   "execution_count": 119,
   "metadata": {
    "colab": {
     "base_uri": "https://localhost:8080/",
     "height": 34
    },
    "executionInfo": {
     "elapsed": 77,
     "status": "ok",
     "timestamp": 1602704046008,
     "user": {
      "displayName": "Kishalay Pandey",
      "photoUrl": "https://lh3.googleusercontent.com/a-/AOh14Gj2tFsmd8Ez-c0OPNkR8sUrBNBZ7p7l6gLebnZE=s64",
      "userId": "15833743162450854740"
     },
     "user_tz": -330
    },
    "id": "pc6LxQQFKdM2",
    "outputId": "9a71aefa-9767-4897-b123-9a0529f80169"
   },
   "outputs": [
    {
     "data": {
      "text/plain": [
       "[1, 4, 9, 16]"
      ]
     },
     "execution_count": 119,
     "metadata": {
      "tags": []
     },
     "output_type": "execute_result"
    }
   ],
   "source": [
    "# map could be used with Lambda as follows\n",
    "# lambda function is an anonymous function that take any number of arguments and can only have one expression\n",
    "input_list=[1,2,3,4]\n",
    "s=list(map((lambda x:x**2),input_list))\n",
    "s"
   ]
  },
  {
   "cell_type": "markdown",
   "metadata": {
    "id": "Dj4Wcbr1gLo8"
   },
   "source": [
    "**MINI CHALLENGE #4:**\n",
    "- **Write a function that takes an argument and return its cubic value**\n",
    "- **Define a list of integers ranging from -10 to 10** \n",
    "- **Apply the function to the entire list and generate a new output list** \n"
   ]
  },
  {
   "cell_type": "code",
   "execution_count": 126,
   "metadata": {
    "colab": {
     "base_uri": "https://localhost:8080/",
     "height": 34
    },
    "executionInfo": {
     "elapsed": 66,
     "status": "ok",
     "timestamp": 1602704321476,
     "user": {
      "displayName": "Kishalay Pandey",
      "photoUrl": "https://lh3.googleusercontent.com/a-/AOh14Gj2tFsmd8Ez-c0OPNkR8sUrBNBZ7p7l6gLebnZE=s64",
      "userId": "15833743162450854740"
     },
     "user_tz": -330
    },
    "id": "pqXiuFVxvU18",
    "outputId": "10a96e39-e970-4844-ced3-d4a66e090879"
   },
   "outputs": [
    {
     "name": "stdout",
     "output_type": "stream",
     "text": [
      "[-1000, -729, -512, -343, -216, -125, -64, -27, -8, -1, 0, 1, 8, 27, 64, 125, 216, 343, 512, 729, 1000]\n"
     ]
    }
   ],
   "source": [
    "s=[ x for x in range(-10,11)]\n",
    "c=list(map((lambda x:x**3),s))\n",
    "print(c)"
   ]
  },
  {
   "cell_type": "markdown",
   "metadata": {
    "id": "BtAxpyeGKGA1"
   },
   "source": [
    "# 5. FILTER\n"
   ]
  },
  {
   "cell_type": "code",
   "execution_count": 127,
   "metadata": {
    "colab": {
     "base_uri": "https://localhost:8080/",
     "height": 34
    },
    "executionInfo": {
     "elapsed": 89,
     "status": "ok",
     "timestamp": 1602704885793,
     "user": {
      "displayName": "Kishalay Pandey",
      "photoUrl": "https://lh3.googleusercontent.com/a-/AOh14Gj2tFsmd8Ez-c0OPNkR8sUrBNBZ7p7l6gLebnZE=s64",
      "userId": "15833743162450854740"
     },
     "user_tz": -330
    },
    "id": "D5LVa00JKdz0",
    "outputId": "52d799ab-4693-4f10-a03f-5a0f346cc92a"
   },
   "outputs": [
    {
     "data": {
      "text/plain": [
       "[105, 5055, 40, 356, 923, 1443, 222, 62]"
      ]
     },
     "execution_count": 127,
     "metadata": {
      "tags": []
     },
     "output_type": "execute_result"
    }
   ],
   "source": [
    "# filter is used to create a list of elements for which a function returns \"True\".\n",
    "prices=[105,5055,40,356,923,1443,222,62]\n",
    "prices"
   ]
  },
  {
   "cell_type": "code",
   "execution_count": 132,
   "metadata": {
    "colab": {
     "base_uri": "https://localhost:8080/",
     "height": 34
    },
    "executionInfo": {
     "elapsed": 78,
     "status": "ok",
     "timestamp": 1602705232565,
     "user": {
      "displayName": "Kishalay Pandey",
      "photoUrl": "https://lh3.googleusercontent.com/a-/AOh14Gj2tFsmd8Ez-c0OPNkR8sUrBNBZ7p7l6gLebnZE=s64",
      "userId": "15833743162450854740"
     },
     "user_tz": -330
    },
    "id": "cgQq4hlcKd4A",
    "outputId": "9a581bb3-080d-4c2a-a0c7-ee9baafddfa8"
   },
   "outputs": [
    {
     "data": {
      "text/plain": [
       "[40, 356, 222, 62]"
      ]
     },
     "execution_count": 132,
     "metadata": {
      "tags": []
     },
     "output_type": "execute_result"
    }
   ],
   "source": [
    "# return only even numbers\n",
    "out=list(filter(lambda x:(x%2==0),prices))\n",
    "out"
   ]
  },
  {
   "cell_type": "code",
   "execution_count": 136,
   "metadata": {
    "colab": {
     "base_uri": "https://localhost:8080/",
     "height": 34
    },
    "executionInfo": {
     "elapsed": 61,
     "status": "ok",
     "timestamp": 1602705306620,
     "user": {
      "displayName": "Kishalay Pandey",
      "photoUrl": "https://lh3.googleusercontent.com/a-/AOh14Gj2tFsmd8Ez-c0OPNkR8sUrBNBZ7p7l6gLebnZE=s64",
      "userId": "15833743162450854740"
     },
     "user_tz": -330
    },
    "id": "shory4UpKd2Y",
    "outputId": "36a2523e-15ec-41e9-b45f-9012bd2fc4aa"
   },
   "outputs": [
    {
     "data": {
      "text/plain": [
       "[105, 5055, 356, 923, 1443, 222]"
      ]
     },
     "execution_count": 136,
     "metadata": {
      "tags": []
     },
     "output_type": "execute_result"
    }
   ],
   "source": [
    "# Return prices that are greater than or equal 100\n",
    "out=list(filter(lambda x:(x>100),prices))\n",
    "out"
   ]
  },
  {
   "cell_type": "code",
   "execution_count": 137,
   "metadata": {
    "colab": {
     "base_uri": "https://localhost:8080/",
     "height": 34
    },
    "executionInfo": {
     "elapsed": 79,
     "status": "ok",
     "timestamp": 1602705330263,
     "user": {
      "displayName": "Kishalay Pandey",
      "photoUrl": "https://lh3.googleusercontent.com/a-/AOh14Gj2tFsmd8Ez-c0OPNkR8sUrBNBZ7p7l6gLebnZE=s64",
      "userId": "15833743162450854740"
     },
     "user_tz": -330
    },
    "id": "uQi17-h_hlSf",
    "outputId": "c264cf27-3fe4-4ab9-953f-5f2e25b24447"
   },
   "outputs": [
    {
     "data": {
      "text/plain": [
       "[222]"
      ]
     },
     "execution_count": 137,
     "metadata": {
      "tags": []
     },
     "output_type": "execute_result"
    }
   ],
   "source": [
    "# Return age between 200 and 250\n",
    "out=list(filter(lambda x:(x>200 and x<250),prices))\n",
    "out"
   ]
  },
  {
   "cell_type": "markdown",
   "metadata": {
    "id": "JZIiCmyvh7EW"
   },
   "source": [
    "**MINI CHALLENGE #5:**\n",
    "- **Write a code from the user that takes in a range (upper and lower bounds) and returns a list of positive and even numbers only** \n"
   ]
  },
  {
   "cell_type": "code",
   "execution_count": 144,
   "metadata": {
    "colab": {
     "base_uri": "https://localhost:8080/",
     "height": 68
    },
    "executionInfo": {
     "elapsed": 3850,
     "status": "ok",
     "timestamp": 1602706270922,
     "user": {
      "displayName": "Kishalay Pandey",
      "photoUrl": "https://lh3.googleusercontent.com/a-/AOh14Gj2tFsmd8Ez-c0OPNkR8sUrBNBZ7p7l6gLebnZE=s64",
      "userId": "15833743162450854740"
     },
     "user_tz": -330
    },
    "id": "4JDq7Y04ve0S",
    "outputId": "f97e6253-ab60-48d6-8f43-8b49398c9d7d"
   },
   "outputs": [
    {
     "name": "stdout",
     "output_type": "stream",
     "text": [
      "Enter Upper Bound10\n",
      "Enter Lower Bound-6\n",
      "[2, 4, 6, 8]\n"
     ]
    }
   ],
   "source": [
    "ub=int(input(\"Enter Upper Bound\"))\n",
    "lb=int(input(\"Enter Lower Bound\"))\n",
    "l=list(range(lb,ub))\n",
    "o=list(filter(lambda x:(x%2==0 and x>0),l))\n",
    "print(o)"
   ]
  },
  {
   "cell_type": "markdown",
   "metadata": {
    "id": "BTLG7E2YeYIu"
   },
   "source": [
    "# MINI CHALLENGE SOLUTIONS"
   ]
  },
  {
   "cell_type": "markdown",
   "metadata": {
    "id": "Sr6wSsDGecLe"
   },
   "source": [
    "**MINI CHALLENGE #1 SOLUTION:**\n",
    "- **Write a code that takes in 2 lists x = [-1 -4 -7] and y = [-3 7 4] and  calculates the absolute sum of all its elements |x+y|**"
   ]
  },
  {
   "cell_type": "code",
   "execution_count": null,
   "metadata": {
    "colab": {
     "base_uri": "https://localhost:8080/",
     "height": 34
    },
    "executionInfo": {
     "elapsed": 502,
     "status": "ok",
     "timestamp": 1599886907656,
     "user": {
      "displayName": "Stemplicity",
      "photoUrl": "https://lh3.googleusercontent.com/a-/AOh14Gj2vCFt-bD5mPBhUWX0QA6xiBgoXQXtwUm2jgjaCg=s64",
      "userId": "10668071569687886186"
     },
     "user_tz": 240
    },
    "id": "Ytdw0BKxKFRx",
    "outputId": "60213af7-fbf9-4732-df56-c6263267ef27"
   },
   "outputs": [
    {
     "data": {
      "text/plain": [
       "4"
      ]
     },
     "execution_count": 11,
     "metadata": {
      "tags": []
     },
     "output_type": "execute_result"
    }
   ],
   "source": [
    "x = [-1, -4, -7]\n",
    "y = [-3, 7, 4]\n",
    "z = abs(sum(x+y))\n",
    "z"
   ]
  },
  {
   "cell_type": "markdown",
   "metadata": {
    "id": "YAh_RlMreu3V"
   },
   "source": [
    "**MINI CHALLENGE #2: SOLUTION** \n",
    "- **Write a code that takes in two inputs (number of units and prices) from the user and calculate the total account balance**"
   ]
  },
  {
   "cell_type": "code",
   "execution_count": null,
   "metadata": {
    "id": "7zwqjcIresGA"
   },
   "outputs": [],
   "source": [
    "def total(units, price):\n",
    "    amount = units * price\n",
    "    return(amount)"
   ]
  },
  {
   "cell_type": "code",
   "execution_count": null,
   "metadata": {
    "colab": {
     "base_uri": "https://localhost:8080/",
     "height": 67
    },
    "executionInfo": {
     "elapsed": 3487,
     "status": "ok",
     "timestamp": 1599887491190,
     "user": {
      "displayName": "Stemplicity",
      "photoUrl": "https://lh3.googleusercontent.com/a-/AOh14Gj2vCFt-bD5mPBhUWX0QA6xiBgoXQXtwUm2jgjaCg=s64",
      "userId": "10668071569687886186"
     },
     "user_tz": 240
    },
    "id": "MjKWBisLet6b",
    "outputId": "65db3176-bed8-4829-f208-559309835034"
   },
   "outputs": [
    {
     "name": "stdout",
     "output_type": "stream",
     "text": [
      "Enter the number of shares: 80\n",
      "Enter the price per share: 5\n",
      "Total account balance = 400\n"
     ]
    }
   ],
   "source": [
    "num_shares = int(input(\"Enter the number of shares: \"))\n",
    "price = int(input(\"Enter the price per share: \"))\n",
    "account_balance = total(num_shares, price)\n",
    "\n",
    "print('Total account balance = {}'.format(account_balance))"
   ]
  },
  {
   "cell_type": "markdown",
   "metadata": {
    "id": "fCXG1j3qfipT"
   },
   "source": [
    "**MINI CHALLENGE #3 SOLUTION**\n",
    "- **Repeat mini challenge #2 (Write a code that takes in two inputs from the user and calculates the total) using lambda expressions instead**"
   ]
  },
  {
   "cell_type": "code",
   "execution_count": null,
   "metadata": {
    "colab": {
     "base_uri": "https://localhost:8080/",
     "height": 67
    },
    "executionInfo": {
     "elapsed": 2628,
     "status": "ok",
     "timestamp": 1599887663681,
     "user": {
      "displayName": "Stemplicity",
      "photoUrl": "https://lh3.googleusercontent.com/a-/AOh14Gj2vCFt-bD5mPBhUWX0QA6xiBgoXQXtwUm2jgjaCg=s64",
      "userId": "10668071569687886186"
     },
     "user_tz": 240
    },
    "id": "oYBrDfsTe-pI",
    "outputId": "cf9c2c4b-4710-4c88-8171-bd14e57b55d9"
   },
   "outputs": [
    {
     "name": "stdout",
     "output_type": "stream",
     "text": [
      "Enter the number of shares: 80\n",
      "Enter the price per share: 5\n",
      "Total = 400\n"
     ]
    }
   ],
   "source": [
    "num_shares = int(input(\"Enter the number of shares: \"))\n",
    "price = int(input(\"Enter the price per share: \"))\n",
    "\n",
    "account_balance = lambda num_shares, price : num_shares * price\n",
    "print('Total = {}'.format(account_balance(num_shares, price)))\n"
   ]
  },
  {
   "cell_type": "markdown",
   "metadata": {
    "id": "sAkiC9hYhHgX"
   },
   "source": [
    "**MINI CHALLENGE #4 SOLUTION:**\n",
    "- **Write a function that takes an argument and return its cubic value**\n",
    "- **Define a list of integers ranging from -10 to 10** \n",
    "- **Apply the function to the entire list and generate a new output list** "
   ]
  },
  {
   "cell_type": "code",
   "execution_count": null,
   "metadata": {
    "id": "hw2O6o4XhDLN"
   },
   "outputs": [],
   "source": [
    "def cubic(x):\n",
    "    return (x*x*x)\n",
    "\n",
    "numbers = range(-10, 11)\n",
    "numbers_cubed = list(map(lambda x: cubic(x), numbers))\n",
    "print(list(numbers))\n",
    "print(numbers_cubed)"
   ]
  },
  {
   "cell_type": "markdown",
   "metadata": {
    "id": "WafFpX3zifYK"
   },
   "source": [
    "**MINI CHALLENGE #5 SOLUTION:**\n",
    "- **Write a code from the user that takes in a range (upper and lower bounds) and returns a list of positive and even numbers only** \n"
   ]
  },
  {
   "cell_type": "code",
   "execution_count": null,
   "metadata": {
    "id": "jbTis2cBib1x"
   },
   "outputs": [],
   "source": [
    "min = int(input(\"Enter a number (lower bound) *must be negative* : \"))\n",
    "max = int(input(\"Enter a number (Upper bound:) \"))\n",
    "\n",
    "numbers = range(min, max)\n",
    "even_greater_than_zero = list(filter(lambda x: (x > 0 and x%2 == 0), numbers))\n",
    "print(even_greater_than_zero)\n"
   ]
  }
 ],
 "metadata": {
  "colab": {
   "collapsed_sections": [],
   "name": "5. Python 101 - Functions - Skeleton.ipynb",
   "provenance": []
  },
  "kernelspec": {
   "display_name": "Python 3",
   "language": "python",
   "name": "python3"
  },
  "language_info": {
   "codemirror_mode": {
    "name": "ipython",
    "version": 3
   },
   "file_extension": ".py",
   "mimetype": "text/x-python",
   "name": "python",
   "nbconvert_exporter": "python",
   "pygments_lexer": "ipython3",
   "version": "3.7.8"
  }
 },
 "nbformat": 4,
 "nbformat_minor": 4
}
