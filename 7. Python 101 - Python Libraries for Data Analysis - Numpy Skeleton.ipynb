{
 "cells": [
  {
   "cell_type": "markdown",
   "metadata": {
    "id": "f7yOpaRM5IbG"
   },
   "source": [
    "# 1. NUMPY BASICS"
   ]
  },
  {
   "cell_type": "code",
   "execution_count": 60,
   "metadata": {
    "colab": {
     "base_uri": "https://localhost:8080/",
     "height": 34
    },
    "executionInfo": {
     "elapsed": 1434,
     "status": "ok",
     "timestamp": 1602876169867,
     "user": {
      "displayName": "Kishalay Pandey",
      "photoUrl": "https://lh3.googleusercontent.com/a-/AOh14Gj2tFsmd8Ez-c0OPNkR8sUrBNBZ7p7l6gLebnZE=s64",
      "userId": "15833743162450854740"
     },
     "user_tz": -330
    },
    "id": "Bqk10u47qEmJ",
    "outputId": "03ce5225-7564-48f6-c40a-29dd0f23b9cd"
   },
   "outputs": [
    {
     "data": {
      "text/plain": [
       "[10, 20, 50, 60, 70]"
      ]
     },
     "execution_count": 60,
     "metadata": {},
     "output_type": "execute_result"
    }
   ],
   "source": [
    "# NumPy is a Linear Algebra Library used for multidimensional arrays\n",
    "# NumPy brings the best of two worlds: (1) C/Fortran computational efficiency, (2) Python language easy syntax \n",
    "import numpy as np\n",
    "# Let's define a one-dimensional array \n",
    "my_list=[10,20,50,60,70]\n",
    "my_list"
   ]
  },
  {
   "cell_type": "code",
   "execution_count": 61,
   "metadata": {
    "colab": {
     "base_uri": "https://localhost:8080/",
     "height": 34
    },
    "executionInfo": {
     "elapsed": 126,
     "status": "ok",
     "timestamp": 1602845943838,
     "user": {
      "displayName": "Kishalay Pandey",
      "photoUrl": "https://lh3.googleusercontent.com/a-/AOh14Gj2tFsmd8Ez-c0OPNkR8sUrBNBZ7p7l6gLebnZE=s64",
      "userId": "15833743162450854740"
     },
     "user_tz": -330
    },
    "id": "b98d-lkK5NbQ",
    "outputId": "a3d3a823-1060-4f94-b0da-5204346c9a35"
   },
   "outputs": [
    {
     "data": {
      "text/plain": [
       "array([10, 20, 50, 60, 70])"
      ]
     },
     "execution_count": 61,
     "metadata": {},
     "output_type": "execute_result"
    }
   ],
   "source": [
    "# Let's create a numpy array from the list \"my_list\"\n",
    "x=np.array(my_list)\n",
    "x"
   ]
  },
  {
   "cell_type": "code",
   "execution_count": 62,
   "metadata": {
    "colab": {
     "base_uri": "https://localhost:8080/",
     "height": 34
    },
    "executionInfo": {
     "elapsed": 90,
     "status": "ok",
     "timestamp": 1602845982102,
     "user": {
      "displayName": "Kishalay Pandey",
      "photoUrl": "https://lh3.googleusercontent.com/a-/AOh14Gj2tFsmd8Ez-c0OPNkR8sUrBNBZ7p7l6gLebnZE=s64",
      "userId": "15833743162450854740"
     },
     "user_tz": -330
    },
    "id": "tljNDWBw5Nf9",
    "outputId": "6ed4d974-a541-46cd-8895-92392f3bd74f"
   },
   "outputs": [
    {
     "data": {
      "text/plain": [
       "numpy.ndarray"
      ]
     },
     "execution_count": 62,
     "metadata": {},
     "output_type": "execute_result"
    }
   ],
   "source": [
    "type(x)"
   ]
  },
  {
   "cell_type": "code",
   "execution_count": 63,
   "metadata": {
    "colab": {
     "base_uri": "https://localhost:8080/",
     "height": 68
    },
    "executionInfo": {
     "elapsed": 116,
     "status": "ok",
     "timestamp": 1602846115053,
     "user": {
      "displayName": "Kishalay Pandey",
      "photoUrl": "https://lh3.googleusercontent.com/a-/AOh14Gj2tFsmd8Ez-c0OPNkR8sUrBNBZ7p7l6gLebnZE=s64",
      "userId": "15833743162450854740"
     },
     "user_tz": -330
    },
    "id": "wpiZ25fZ5NiN",
    "outputId": "33a053bd-6490-462e-f8f2-db9642a96a31"
   },
   "outputs": [
    {
     "name": "stdout",
     "output_type": "stream",
     "text": [
      "<class 'numpy.ndarray'>\n",
      "[[ 5  8]\n",
      " [ 9 13]]\n"
     ]
    }
   ],
   "source": [
    "# Multi-dimensional (Matrix definition) \n",
    "matrix=np.array([[5,8],[9,13]])\n",
    "print(type(matrix))\n",
    "print(matrix)"
   ]
  },
  {
   "cell_type": "markdown",
   "metadata": {
    "id": "tmB_S-JfHZRL"
   },
   "source": [
    "**MINI CHALLENGE #1:** \n",
    "- **Write a code that creates the following 2x4 numpy array**\n",
    "\n",
    "```\n",
    "[[4 6 8 7] \n",
    "[20 5 6 9]]\n",
    "```"
   ]
  },
  {
   "cell_type": "code",
   "execution_count": 64,
   "metadata": {
    "colab": {
     "base_uri": "https://localhost:8080/",
     "height": 51
    },
    "executionInfo": {
     "elapsed": 92,
     "status": "ok",
     "timestamp": 1602846071662,
     "user": {
      "displayName": "Kishalay Pandey",
      "photoUrl": "https://lh3.googleusercontent.com/a-/AOh14Gj2tFsmd8Ez-c0OPNkR8sUrBNBZ7p7l6gLebnZE=s64",
      "userId": "15833743162450854740"
     },
     "user_tz": -330
    },
    "id": "Nabjzl1oKtGX",
    "outputId": "a35f541b-c98f-4d97-da8b-07a69e95f871"
   },
   "outputs": [
    {
     "data": {
      "text/plain": [
       "array([[ 4,  6,  8,  7],\n",
       "       [20,  5,  6,  9]])"
      ]
     },
     "execution_count": 64,
     "metadata": {},
     "output_type": "execute_result"
    }
   ],
   "source": [
    "m=np.array([[4,6,8,7],[20,5,6,9]])\n",
    "m"
   ]
  },
  {
   "cell_type": "markdown",
   "metadata": {
    "id": "uBuqdDQM6Qd9"
   },
   "source": [
    "# 2. BUILT-IN METHODS AND FUNCTIONS "
   ]
  },
  {
   "cell_type": "code",
   "execution_count": 65,
   "metadata": {
    "colab": {
     "base_uri": "https://localhost:8080/",
     "height": 34
    },
    "executionInfo": {
     "elapsed": 99,
     "status": "ok",
     "timestamp": 1602846318690,
     "user": {
      "displayName": "Kishalay Pandey",
      "photoUrl": "https://lh3.googleusercontent.com/a-/AOh14Gj2tFsmd8Ez-c0OPNkR8sUrBNBZ7p7l6gLebnZE=s64",
      "userId": "15833743162450854740"
     },
     "user_tz": -330
    },
    "id": "yXQV-Nrg5No3",
    "outputId": "6e4ce14d-1a51-4c2d-c69c-10e89d6ca89d"
   },
   "outputs": [
    {
     "data": {
      "text/plain": [
       "array([0.78888268, 0.28738571])"
      ]
     },
     "execution_count": 65,
     "metadata": {},
     "output_type": "execute_result"
    }
   ],
   "source": [
    "# \"rand()\" uniform distribution between 0 and 1\n",
    "x=np.random.rand(2)\n",
    "x"
   ]
  },
  {
   "cell_type": "code",
   "execution_count": 66,
   "metadata": {
    "colab": {
     "base_uri": "https://localhost:8080/",
     "height": 102
    },
    "executionInfo": {
     "elapsed": 97,
     "status": "ok",
     "timestamp": 1602846354823,
     "user": {
      "displayName": "Kishalay Pandey",
      "photoUrl": "https://lh3.googleusercontent.com/a-/AOh14Gj2tFsmd8Ez-c0OPNkR8sUrBNBZ7p7l6gLebnZE=s64",
      "userId": "15833743162450854740"
     },
     "user_tz": -330
    },
    "id": "PpJUCdB15NkT",
    "outputId": "c32b7d4d-981c-4b64-b54f-84af9b54cbe0"
   },
   "outputs": [
    {
     "data": {
      "text/plain": [
       "array([[0.96392995, 0.56599171, 0.42637815, 0.57148216, 0.65112499],\n",
       "       [0.63664759, 0.85468345, 0.46545725, 0.44650882, 0.08987229],\n",
       "       [0.22146258, 0.99699946, 0.87339763, 0.84360616, 0.22787162],\n",
       "       [0.91821457, 0.58096956, 0.43569847, 0.42827209, 0.40150928],\n",
       "       [0.07307672, 0.74589485, 0.51285429, 0.22097061, 0.60139704]])"
      ]
     },
     "execution_count": 66,
     "metadata": {},
     "output_type": "execute_result"
    }
   ],
   "source": [
    "# you can create a matrix of random number as well\n",
    "x=np.random.rand(5,5)\n",
    "x"
   ]
  },
  {
   "cell_type": "code",
   "execution_count": 67,
   "metadata": {
    "colab": {
     "base_uri": "https://localhost:8080/",
     "height": 51
    },
    "executionInfo": {
     "elapsed": 91,
     "status": "ok",
     "timestamp": 1602846983909,
     "user": {
      "displayName": "Kishalay Pandey",
      "photoUrl": "https://lh3.googleusercontent.com/a-/AOh14Gj2tFsmd8Ez-c0OPNkR8sUrBNBZ7p7l6gLebnZE=s64",
      "userId": "15833743162450854740"
     },
     "user_tz": -330
    },
    "id": "7EzMNrrm6YHA",
    "outputId": "85653c72-93d5-4dda-f803-03837d84ef45"
   },
   "outputs": [
    {
     "data": {
      "text/plain": [
       "array([-0.55509683,  0.49056626, -0.11350259, -0.72997172, -0.40240473,\n",
       "       -0.72156913,  0.12669444, -0.68385753, -0.96015848,  0.25232005])"
      ]
     },
     "execution_count": 67,
     "metadata": {},
     "output_type": "execute_result"
    }
   ],
   "source": [
    "# \"randn()\" normal distribution between 0 and 1\n",
    "x=np.random.randn(10)\n",
    "x"
   ]
  },
  {
   "cell_type": "code",
   "execution_count": 68,
   "metadata": {
    "colab": {
     "base_uri": "https://localhost:8080/",
     "height": 34
    },
    "executionInfo": {
     "elapsed": 97,
     "status": "ok",
     "timestamp": 1602847014231,
     "user": {
      "displayName": "Kishalay Pandey",
      "photoUrl": "https://lh3.googleusercontent.com/a-/AOh14Gj2tFsmd8Ez-c0OPNkR8sUrBNBZ7p7l6gLebnZE=s64",
      "userId": "15833743162450854740"
     },
     "user_tz": -330
    },
    "id": "RBcU5xgb6YL0",
    "outputId": "5f860f82-8a4c-4bc7-aed3-668ce9a6ab2b"
   },
   "outputs": [
    {
     "data": {
      "text/plain": [
       "2"
      ]
     },
     "execution_count": 68,
     "metadata": {},
     "output_type": "execute_result"
    }
   ],
   "source": [
    "# \"randint\" is used to generate random integers between upper and lower bounds\n",
    "x=np.random.randint(1,10)\n",
    "x"
   ]
  },
  {
   "cell_type": "code",
   "execution_count": 69,
   "metadata": {
    "colab": {
     "base_uri": "https://localhost:8080/",
     "height": 34
    },
    "executionInfo": {
     "elapsed": 89,
     "status": "ok",
     "timestamp": 1602847074102,
     "user": {
      "displayName": "Kishalay Pandey",
      "photoUrl": "https://lh3.googleusercontent.com/a-/AOh14Gj2tFsmd8Ez-c0OPNkR8sUrBNBZ7p7l6gLebnZE=s64",
      "userId": "15833743162450854740"
     },
     "user_tz": -330
    },
    "id": "O3JdVtvo6YP7",
    "outputId": "936cde0b-3c31-4610-c4a5-e0e1c0cf32a1"
   },
   "outputs": [
    {
     "data": {
      "text/plain": [
       "array([18, 14, 17, 33, 90, 33, 13,  2, 17, 92, 25, 50, 12, 83, 67])"
      ]
     },
     "execution_count": 69,
     "metadata": {},
     "output_type": "execute_result"
    }
   ],
   "source": [
    "# \"randint\" can be used to generate a certain number of random itegers as follows\n",
    "x=np.random.randint(1,100,15)\n",
    "x"
   ]
  },
  {
   "cell_type": "code",
   "execution_count": 70,
   "metadata": {
    "colab": {
     "base_uri": "https://localhost:8080/",
     "height": 68
    },
    "executionInfo": {
     "elapsed": 89,
     "status": "ok",
     "timestamp": 1602847126103,
     "user": {
      "displayName": "Kishalay Pandey",
      "photoUrl": "https://lh3.googleusercontent.com/a-/AOh14Gj2tFsmd8Ez-c0OPNkR8sUrBNBZ7p7l6gLebnZE=s64",
      "userId": "15833743162450854740"
     },
     "user_tz": -330
    },
    "id": "EOOLMB416YUh",
    "outputId": "767c6db2-0c6c-4734-a611-aaac1820152f"
   },
   "outputs": [
    {
     "data": {
      "text/plain": [
       "array([ 1,  2,  3,  4,  5,  6,  7,  8,  9, 10, 11, 12, 13, 14, 15, 16, 17,\n",
       "       18, 19, 20, 21, 22, 23, 24, 25, 26, 27, 28, 29, 30, 31, 32, 33, 34,\n",
       "       35, 36, 37, 38, 39, 40, 41, 42, 43, 44, 45, 46, 47, 48, 49])"
      ]
     },
     "execution_count": 70,
     "metadata": {},
     "output_type": "execute_result"
    }
   ],
   "source": [
    "# np.arange creates an evenly spaced values within a given interval\n",
    "x=np.arange(1,50)\n",
    "x"
   ]
  },
  {
   "cell_type": "code",
   "execution_count": 71,
   "metadata": {
    "colab": {
     "base_uri": "https://localhost:8080/",
     "height": 34
    },
    "executionInfo": {
     "elapsed": 114,
     "status": "ok",
     "timestamp": 1602847170037,
     "user": {
      "displayName": "Kishalay Pandey",
      "photoUrl": "https://lh3.googleusercontent.com/a-/AOh14Gj2tFsmd8Ez-c0OPNkR8sUrBNBZ7p7l6gLebnZE=s64",
      "userId": "15833743162450854740"
     },
     "user_tz": -330
    },
    "id": "Jz7eJuio6YY4",
    "outputId": "b5d26183-a7c0-4fcc-d02b-245b29a25014"
   },
   "outputs": [
    {
     "data": {
      "text/plain": [
       "array([ 0,  5, 10, 15, 20, 25, 30, 35, 40, 45])"
      ]
     },
     "execution_count": 71,
     "metadata": {},
     "output_type": "execute_result"
    }
   ],
   "source": [
    "# Create an evenly spaced values with a step of 5\n",
    "x=np.arange(0,50,5)\n",
    "x"
   ]
  },
  {
   "cell_type": "code",
   "execution_count": 72,
   "metadata": {
    "colab": {
     "base_uri": "https://localhost:8080/",
     "height": 272
    },
    "executionInfo": {
     "elapsed": 87,
     "status": "ok",
     "timestamp": 1602847218684,
     "user": {
      "displayName": "Kishalay Pandey",
      "photoUrl": "https://lh3.googleusercontent.com/a-/AOh14Gj2tFsmd8Ez-c0OPNkR8sUrBNBZ7p7l6gLebnZE=s64",
      "userId": "15833743162450854740"
     },
     "user_tz": -330
    },
    "id": "sft1flaM6YXF",
    "outputId": "ef599544-29f0-4992-bcbb-9a3c19677fc8"
   },
   "outputs": [
    {
     "data": {
      "text/plain": [
       "array([[1., 0., 0., 0., 0., 0., 0., 0., 0., 0., 0., 0., 0., 0., 0.],\n",
       "       [0., 1., 0., 0., 0., 0., 0., 0., 0., 0., 0., 0., 0., 0., 0.],\n",
       "       [0., 0., 1., 0., 0., 0., 0., 0., 0., 0., 0., 0., 0., 0., 0.],\n",
       "       [0., 0., 0., 1., 0., 0., 0., 0., 0., 0., 0., 0., 0., 0., 0.],\n",
       "       [0., 0., 0., 0., 1., 0., 0., 0., 0., 0., 0., 0., 0., 0., 0.],\n",
       "       [0., 0., 0., 0., 0., 1., 0., 0., 0., 0., 0., 0., 0., 0., 0.],\n",
       "       [0., 0., 0., 0., 0., 0., 1., 0., 0., 0., 0., 0., 0., 0., 0.],\n",
       "       [0., 0., 0., 0., 0., 0., 0., 1., 0., 0., 0., 0., 0., 0., 0.],\n",
       "       [0., 0., 0., 0., 0., 0., 0., 0., 1., 0., 0., 0., 0., 0., 0.],\n",
       "       [0., 0., 0., 0., 0., 0., 0., 0., 0., 1., 0., 0., 0., 0., 0.],\n",
       "       [0., 0., 0., 0., 0., 0., 0., 0., 0., 0., 1., 0., 0., 0., 0.],\n",
       "       [0., 0., 0., 0., 0., 0., 0., 0., 0., 0., 0., 1., 0., 0., 0.],\n",
       "       [0., 0., 0., 0., 0., 0., 0., 0., 0., 0., 0., 0., 1., 0., 0.],\n",
       "       [0., 0., 0., 0., 0., 0., 0., 0., 0., 0., 0., 0., 0., 1., 0.],\n",
       "       [0., 0., 0., 0., 0., 0., 0., 0., 0., 0., 0., 0., 0., 0., 1.]])"
      ]
     },
     "execution_count": 72,
     "metadata": {},
     "output_type": "execute_result"
    }
   ],
   "source": [
    "# create a diagonal of ones and zeros everywhere else\n",
    "x=np.eye(15)\n",
    "x"
   ]
  },
  {
   "cell_type": "code",
   "execution_count": 73,
   "metadata": {
    "colab": {
     "base_uri": "https://localhost:8080/",
     "height": 68
    },
    "executionInfo": {
     "elapsed": 83,
     "status": "ok",
     "timestamp": 1602876180430,
     "user": {
      "displayName": "Kishalay Pandey",
      "photoUrl": "https://lh3.googleusercontent.com/a-/AOh14Gj2tFsmd8Ez-c0OPNkR8sUrBNBZ7p7l6gLebnZE=s64",
      "userId": "15833743162450854740"
     },
     "user_tz": -330
    },
    "id": "zZgMftc96fZm",
    "outputId": "130d22cd-e4ed-46c7-97ec-476a9ea099de"
   },
   "outputs": [
    {
     "data": {
      "text/plain": [
       "array([0., 0., 0., 0., 0., 0., 0., 0., 0., 0., 0., 0., 0., 0., 0., 0., 0.,\n",
       "       0., 0., 0., 0., 0., 0., 0., 0., 0., 0., 0., 0., 0., 0., 0., 0., 0.,\n",
       "       0., 0., 0., 0., 0., 0., 0., 0., 0., 0., 0., 0., 0., 0., 0., 0.])"
      ]
     },
     "execution_count": 73,
     "metadata": {},
     "output_type": "execute_result"
    }
   ],
   "source": [
    "# Array of ones\n",
    "x=np.zeros(50)\n",
    "x"
   ]
  },
  {
   "cell_type": "code",
   "execution_count": 74,
   "metadata": {
    "colab": {
     "base_uri": "https://localhost:8080/",
     "height": 272
    },
    "executionInfo": {
     "elapsed": 100,
     "status": "ok",
     "timestamp": 1602876522762,
     "user": {
      "displayName": "Kishalay Pandey",
      "photoUrl": "https://lh3.googleusercontent.com/a-/AOh14Gj2tFsmd8Ez-c0OPNkR8sUrBNBZ7p7l6gLebnZE=s64",
      "userId": "15833743162450854740"
     },
     "user_tz": -330
    },
    "id": "VQ8fp8Qb6feB",
    "outputId": "6d892f0f-e7b4-4520-bdfd-80d52dee90bc"
   },
   "outputs": [
    {
     "data": {
      "text/plain": [
       "array([[1., 1., 1., 1., 1., 1., 1., 1., 1., 1., 1., 1., 1., 1., 1.],\n",
       "       [1., 1., 1., 1., 1., 1., 1., 1., 1., 1., 1., 1., 1., 1., 1.],\n",
       "       [1., 1., 1., 1., 1., 1., 1., 1., 1., 1., 1., 1., 1., 1., 1.],\n",
       "       [1., 1., 1., 1., 1., 1., 1., 1., 1., 1., 1., 1., 1., 1., 1.],\n",
       "       [1., 1., 1., 1., 1., 1., 1., 1., 1., 1., 1., 1., 1., 1., 1.],\n",
       "       [1., 1., 1., 1., 1., 1., 1., 1., 1., 1., 1., 1., 1., 1., 1.],\n",
       "       [1., 1., 1., 1., 1., 1., 1., 1., 1., 1., 1., 1., 1., 1., 1.],\n",
       "       [1., 1., 1., 1., 1., 1., 1., 1., 1., 1., 1., 1., 1., 1., 1.],\n",
       "       [1., 1., 1., 1., 1., 1., 1., 1., 1., 1., 1., 1., 1., 1., 1.],\n",
       "       [1., 1., 1., 1., 1., 1., 1., 1., 1., 1., 1., 1., 1., 1., 1.],\n",
       "       [1., 1., 1., 1., 1., 1., 1., 1., 1., 1., 1., 1., 1., 1., 1.],\n",
       "       [1., 1., 1., 1., 1., 1., 1., 1., 1., 1., 1., 1., 1., 1., 1.],\n",
       "       [1., 1., 1., 1., 1., 1., 1., 1., 1., 1., 1., 1., 1., 1., 1.],\n",
       "       [1., 1., 1., 1., 1., 1., 1., 1., 1., 1., 1., 1., 1., 1., 1.],\n",
       "       [1., 1., 1., 1., 1., 1., 1., 1., 1., 1., 1., 1., 1., 1., 1.]])"
      ]
     },
     "execution_count": 74,
     "metadata": {},
     "output_type": "execute_result"
    }
   ],
   "source": [
    "# Matrices of ones\n",
    "x=np.ones((15,15))\n",
    "x"
   ]
  },
  {
   "cell_type": "code",
   "execution_count": 75,
   "metadata": {
    "id": "TTROXKYo6YSn"
   },
   "outputs": [],
   "source": [
    "# Array of zeros\n"
   ]
  },
  {
   "cell_type": "markdown",
   "metadata": {
    "id": "IGiQ87EjKzh-"
   },
   "source": [
    "**MINI CHALLENGE #2:**\n",
    "- **Write a code that takes in a number x from the user and creates a 1x20 array with random numbers ranging from 0 to x**"
   ]
  },
  {
   "cell_type": "code",
   "execution_count": null,
   "metadata": {
    "colab": {
     "base_uri": "https://localhost:8080/",
     "height": 51
    },
    "executionInfo": {
     "elapsed": 2878,
     "status": "ok",
     "timestamp": 1602876381530,
     "user": {
      "displayName": "Kishalay Pandey",
      "photoUrl": "https://lh3.googleusercontent.com/a-/AOh14Gj2tFsmd8Ez-c0OPNkR8sUrBNBZ7p7l6gLebnZE=s64",
      "userId": "15833743162450854740"
     },
     "user_tz": -330
    },
    "id": "xg1mPZKKML5j",
    "outputId": "aaba0331-0d9f-4c3b-e9d4-e0b0bddf9dd2"
   },
   "outputs": [],
   "source": [
    "x=int(input(\"Enter your number\"))\n",
    "a=np.random.randint(0,x,20)\n",
    "print(a)"
   ]
  },
  {
   "cell_type": "markdown",
   "metadata": {
    "id": "980PKtbu9Z0k"
   },
   "source": [
    "# 3. SHAPE, LENGTH, TYPE, RESHAPE, AND MAX/MIN VALUES"
   ]
  },
  {
   "cell_type": "code",
   "execution_count": null,
   "metadata": {
    "colab": {
     "base_uri": "https://localhost:8080/",
     "height": 51
    },
    "executionInfo": {
     "elapsed": 1727,
     "status": "ok",
     "timestamp": 1602917280987,
     "user": {
      "displayName": "Kishalay Pandey",
      "photoUrl": "https://lh3.googleusercontent.com/a-/AOh14Gj2tFsmd8Ez-c0OPNkR8sUrBNBZ7p7l6gLebnZE=s64",
      "userId": "15833743162450854740"
     },
     "user_tz": -330
    },
    "id": "MIxxZhxSADVj",
    "outputId": "711c2a95-a8b4-48e1-886f-35d4ab2f221d"
   },
   "outputs": [],
   "source": [
    "# Let's define a one-dimensional array \n",
    "import numpy as np\n",
    "my_list=[-30,4,50,60,29,15,22,90]\n",
    "my_list\n",
    "x=np.array(my_list)\n",
    "x"
   ]
  },
  {
   "cell_type": "code",
   "execution_count": null,
   "metadata": {
    "id": "O9mMBErG6YJr"
   },
   "outputs": [],
   "source": [
    "# Get Length of a numpy array\n",
    "len(x)"
   ]
  },
  {
   "cell_type": "code",
   "execution_count": null,
   "metadata": {
    "id": "fo3vYjNI9lGF"
   },
   "outputs": [],
   "source": [
    "# Get shape\n",
    "x.shape"
   ]
  },
  {
   "cell_type": "code",
   "execution_count": null,
   "metadata": {
    "id": "fdkzRVuB9lR6"
   },
   "outputs": [],
   "source": [
    "# Obtain the datatype\n",
    "x.dtype"
   ]
  },
  {
   "cell_type": "code",
   "execution_count": null,
   "metadata": {
    "id": "GVnOSYnU9lLU"
   },
   "outputs": [],
   "source": [
    "# Reshape 1D array into a matrix\n",
    "z=x.reshape(2,4)\n",
    "z"
   ]
  },
  {
   "cell_type": "code",
   "execution_count": null,
   "metadata": {
    "id": "zb1UVnsW9lI_"
   },
   "outputs": [],
   "source": [
    "# Obtain the maximum element (value)\n",
    "x.max()"
   ]
  },
  {
   "cell_type": "code",
   "execution_count": null,
   "metadata": {
    "id": "q1yArvkA-R5P"
   },
   "outputs": [],
   "source": [
    "# Obtain the minimum element (value)\n",
    "x.min()"
   ]
  },
  {
   "cell_type": "code",
   "execution_count": null,
   "metadata": {
    "id": "ehXgrFee-R3F"
   },
   "outputs": [],
   "source": [
    "# Obtain the location of the max element\n",
    "x.argmax()"
   ]
  },
  {
   "cell_type": "code",
   "execution_count": null,
   "metadata": {
    "id": "EnaJTGEy-R0Y"
   },
   "outputs": [],
   "source": [
    "# Obtain the location of the min element\n",
    "x.argmin()"
   ]
  },
  {
   "cell_type": "markdown",
   "metadata": {
    "id": "7LavgBBnIIJz"
   },
   "source": [
    "**MINI CHALLENGE #3:**\n",
    "- **Write a code that creates a 4x5 array inwhich numbers range between 300 and 500 such that the difference between elements is 10**"
   ]
  },
  {
   "cell_type": "code",
   "execution_count": null,
   "metadata": {
    "id": "CtwsbAQ6NGiN"
   },
   "outputs": [],
   "source": [
    "x=np.arange(300,500,10)\n",
    "z=x.reshape(4,5)\n",
    "print(\"Shape: {}\".format(z.shape))\n",
    "print(\"Matrix:\",+z)"
   ]
  },
  {
   "cell_type": "markdown",
   "metadata": {
    "id": "zQ-QhrsgM2x8"
   },
   "source": [
    "**MINI CHALLENGE #4:**\n",
    "- **Write a code that creates a 20x20 numpy array of random values that ranges from -1000 to 1000 and obtain the maximum, minimum, and mean values** "
   ]
  },
  {
   "cell_type": "code",
   "execution_count": null,
   "metadata": {
    "id": "PS3ofoabMb9V"
   },
   "outputs": [],
   "source": [
    "x=np.random.randint(-1000,1000,(20,20))\n",
    "print(x)\n",
    "print(\"Shape: {}\".format(x.shape))\n",
    "print(\"Minimum: \",+x.min())\n",
    "print(\"Mean: \",+x.mean())\n",
    "print(\"Maximum: \",+x.max())"
   ]
  },
  {
   "cell_type": "markdown",
   "metadata": {
    "id": "VRyk_VYQArV3"
   },
   "source": [
    "# 4. MATHEMATICAL OPERATIONS"
   ]
  },
  {
   "cell_type": "code",
   "execution_count": 3,
   "metadata": {
    "id": "vm-gmaQG-Vvd"
   },
   "outputs": [
    {
     "data": {
      "text/plain": [
       "array([1, 2, 3, 4, 5, 6, 7, 8, 9])"
      ]
     },
     "execution_count": 3,
     "metadata": {},
     "output_type": "execute_result"
    }
   ],
   "source": [
    "# np.arange() returns an evenly spaced values within a given interval\n",
    "import numpy as np\n",
    "x=np.arange(1,10)\n",
    "x"
   ]
  },
  {
   "cell_type": "code",
   "execution_count": 4,
   "metadata": {
    "id": "yzC5WGBIAzNk"
   },
   "outputs": [
    {
     "data": {
      "text/plain": [
       "array([1, 2, 3, 4, 5, 6, 7, 8, 9])"
      ]
     },
     "execution_count": 4,
     "metadata": {},
     "output_type": "execute_result"
    }
   ],
   "source": [
    "y=np.arange(1,10)\n",
    "y"
   ]
  },
  {
   "cell_type": "code",
   "execution_count": 5,
   "metadata": {
    "id": "ED0OSzpw2p9R"
   },
   "outputs": [
    {
     "data": {
      "text/plain": [
       "array([ 2,  4,  6,  8, 10, 12, 14, 16, 18])"
      ]
     },
     "execution_count": 5,
     "metadata": {},
     "output_type": "execute_result"
    }
   ],
   "source": [
    "# Add 2 numpy arrays together\n",
    "sum=x+y\n",
    "sum"
   ]
  },
  {
   "cell_type": "raw",
   "metadata": {
    "id": "TH6xTJcuAzK-"
   },
   "source": [
    "sqrd=x*x\n",
    "print(sqrd)"
   ]
  },
  {
   "cell_type": "code",
   "execution_count": 6,
   "metadata": {
    "id": "A0T25q5bAzIw"
   },
   "outputs": [
    {
     "name": "stdout",
     "output_type": "stream",
     "text": [
      "[ 1  4  9 16 25 36 49 64 81]\n"
     ]
    }
   ],
   "source": [
    "sqrd=x*x\n",
    "print(sqrd)"
   ]
  },
  {
   "cell_type": "code",
   "execution_count": 8,
   "metadata": {
    "id": "1HvrjH4fAzGd"
   },
   "outputs": [
    {
     "data": {
      "text/plain": [
       "array([1., 2., 3., 4., 5., 6., 7., 8., 9.])"
      ]
     },
     "execution_count": 8,
     "metadata": {},
     "output_type": "execute_result"
    }
   ],
   "source": [
    "sqrt=np.sqrt(sqrd)\n",
    "sqrt"
   ]
  },
  {
   "cell_type": "code",
   "execution_count": 10,
   "metadata": {},
   "outputs": [
    {
     "data": {
      "text/plain": [
       "array([2.71828183e+00, 7.38905610e+00, 2.00855369e+01, 5.45981500e+01,\n",
       "       1.48413159e+02, 4.03428793e+02, 1.09663316e+03, 2.98095799e+03,\n",
       "       8.10308393e+03])"
      ]
     },
     "execution_count": 10,
     "metadata": {},
     "output_type": "execute_result"
    }
   ],
   "source": [
    "z=np.exp(x)\n",
    "z"
   ]
  },
  {
   "cell_type": "markdown",
   "metadata": {
    "id": "-mj5Mwc2MmY2"
   },
   "source": [
    "**MINI CHALLENGE #5:**\n",
    "- **Given the X and Y values below, obtain the distance between them**\n",
    "\n",
    "\n",
    "```\n",
    "X = [3, 20, 30]\n",
    "Y = [4, 6, 7]\n",
    "```"
   ]
  },
  {
   "cell_type": "code",
   "execution_count": 22,
   "metadata": {
    "id": "LfvrGIb83zCA"
   },
   "outputs": [
    {
     "name": "stdout",
     "output_type": "stream",
     "text": [
      "The distance between X and Y is [  5.          20.88061302  30.8058436  284.01584463]\n"
     ]
    }
   ],
   "source": [
    "x=np.array([3,20,30,123])\n",
    "y=np.array([4,6,7,256])\n",
    "z=np.sqrt(x**2+y**2)\n",
    "print(\"The distance between X and Y is {}\".format(z))"
   ]
  },
  {
   "cell_type": "markdown",
   "metadata": {
    "id": "ZA-Yb20mCYLl"
   },
   "source": [
    "# 5. SLICING AND INDEXING "
   ]
  },
  {
   "cell_type": "code",
   "execution_count": 2,
   "metadata": {
    "id": "Bu6rhQ99BFCp"
   },
   "outputs": [
    {
     "output_type": "execute_result",
     "data": {
      "text/plain": [
       "array([20, 40, 50, 21, 15])"
      ]
     },
     "metadata": {},
     "execution_count": 2
    }
   ],
   "source": [
    "import numpy as np\n",
    "x=np.array([20,40,50,21,15])\n",
    "x"
   ]
  },
  {
   "cell_type": "code",
   "execution_count": 3,
   "metadata": {
    "id": "9TuEXJxgCdi_"
   },
   "outputs": [
    {
     "output_type": "execute_result",
     "data": {
      "text/plain": [
       "20"
      ]
     },
     "metadata": {},
     "execution_count": 3
    }
   ],
   "source": [
    "# Access specific index from the numpy array\n",
    "x[0]"
   ]
  },
  {
   "cell_type": "code",
   "execution_count": 5,
   "metadata": {
    "id": "EjisujRgCdh4"
   },
   "outputs": [
    {
     "output_type": "execute_result",
     "data": {
      "text/plain": [
       "array([20, 40, 50, 21])"
      ]
     },
     "metadata": {},
     "execution_count": 5
    }
   ],
   "source": [
    "# Starting from the first index 0 up until and NOT inlcluding the last element\n",
    "x[0:4]"
   ]
  },
  {
   "cell_type": "code",
   "execution_count": 6,
   "metadata": {
    "id": "1nWlP602Cdg3"
   },
   "outputs": [
    {
     "output_type": "execute_result",
     "data": {
      "text/plain": [
       "array([10, 10, 50, 21, 15])"
      ]
     },
     "metadata": {},
     "execution_count": 6
    }
   ],
   "source": [
    "# Broadcasting, altering several values in a numpy array at once\n",
    "x[0:2]=10\n",
    "x"
   ]
  },
  {
   "cell_type": "code",
   "execution_count": 8,
   "metadata": {
    "id": "fVKbwHguCddn"
   },
   "outputs": [
    {
     "output_type": "execute_result",
     "data": {
      "text/plain": [
       "array([[7, 9, 4, 9, 4],\n",
       "       [4, 1, 8, 6, 5],\n",
       "       [8, 8, 1, 5, 8],\n",
       "       [3, 9, 8, 5, 2],\n",
       "       [1, 8, 1, 1, 4]])"
      ]
     },
     "metadata": {},
     "execution_count": 8
    }
   ],
   "source": [
    "# Let's define a two dimensional numpy array\n",
    "y=np.random.randint(1,10,(5,5))\n",
    "y"
   ]
  },
  {
   "cell_type": "code",
   "execution_count": 13,
   "metadata": {
    "id": "Ea7ukwEzCda-"
   },
   "outputs": [
    {
     "output_type": "execute_result",
     "data": {
      "text/plain": [
       "array([7, 9, 4, 9, 4])"
      ]
     },
     "metadata": {},
     "execution_count": 13
    }
   ],
   "source": [
    "# Get a row from a mtrix\n",
    "y[0]"
   ]
  },
  {
   "cell_type": "code",
   "execution_count": 14,
   "metadata": {
    "id": "8KJk10J8Ci8k"
   },
   "outputs": [
    {
     "output_type": "execute_result",
     "data": {
      "text/plain": [
       "8"
      ]
     },
     "metadata": {},
     "execution_count": 14
    }
   ],
   "source": [
    "# Get one element\n",
    "y[2][4]"
   ]
  },
  {
   "cell_type": "code",
   "execution_count": 15,
   "metadata": {
    "id": "lWsIgHYRCi5e"
   },
   "outputs": [
    {
     "output_type": "execute_result",
     "data": {
      "text/plain": [
       "array([4, 8, 1, 8, 1])"
      ]
     },
     "metadata": {},
     "execution_count": 15
    }
   ],
   "source": [
    "y[:,2]"
   ]
  },
  {
   "cell_type": "code",
   "execution_count": 16,
   "metadata": {
    "id": "Gn7-PKS9Ci4c"
   },
   "outputs": [
    {
     "output_type": "execute_result",
     "data": {
      "text/plain": [
       "array([[7, 9, 4, 9, 4],\n",
       "       [4, 1, 8, 6, 5],\n",
       "       [8, 8, 1, 5, 8]])"
      ]
     },
     "metadata": {},
     "execution_count": 16
    }
   ],
   "source": [
    "z=y[:3]\n",
    "z"
   ]
  },
  {
   "cell_type": "code",
   "execution_count": 18,
   "metadata": {
    "id": "MGap8pfACi1M"
   },
   "outputs": [
    {
     "output_type": "execute_result",
     "data": {
      "text/plain": [
       "array([[4, 9, 4],\n",
       "       [8, 6, 5],\n",
       "       [1, 5, 8],\n",
       "       [8, 5, 2],\n",
       "       [1, 1, 4]])"
      ]
     },
     "metadata": {},
     "execution_count": 18
    }
   ],
   "source": [
    "a=y[:,2:]\n",
    "a"
   ]
  },
  {
   "cell_type": "code",
   "execution_count": 19,
   "metadata": {
    "id": "ANJFZWTdCdX9"
   },
   "outputs": [
    {
     "output_type": "execute_result",
     "data": {
      "text/plain": [
       "array([[7, 9],\n",
       "       [4, 1],\n",
       "       [8, 8],\n",
       "       [3, 9],\n",
       "       [1, 8]])"
      ]
     },
     "metadata": {},
     "execution_count": 19
    }
   ],
   "source": [
    "z=y[:,:2]\n",
    "z"
   ]
  },
  {
   "cell_type": "markdown",
   "metadata": {
    "id": "zgyFPV5R8dUS"
   },
   "source": [
    "**MINI CHALLENGE #6:**\n",
    "- **In the following matrix, replace the last row with -1**\n",
    "- **Multiply the 2x2 matrix in the upper right corner by 2**\n",
    "\n",
    "\n",
    "\n",
    "```\n",
    "X = [2 30 20 -2 -4]\n",
    "    [3 4  40 -3 -2]\n",
    "    [-3 4 -6 90 10]\n",
    "    [25 45 34 22 12]\n",
    "    [13 24 22 32 37]\n",
    "```\n",
    "\n"
   ]
  },
  {
   "cell_type": "code",
   "execution_count": 53,
   "metadata": {},
   "outputs": [
    {
     "output_type": "stream",
     "name": "stdout",
     "text": [
      "Replaced Matrix\n\n [[ 2 30 20 -2 -4]\n [ 3  4 40 -3 -2]\n [-3  4 -6 90 10]\n [25 45 34 22 12]\n [-1 -1 -1 -1 -1]] \n\n\nMultiple 2x2 Matrix \n\n [[ 2 30 20 -4 -8]\n [ 3  4 40 -6 -4]\n [-3  4 -6 90 10]\n [25 45 34 22 12]\n [-1 -1 -1 -1 -1]]\n"
     ]
    }
   ],
   "source": [
    "x=np.array([[2, 30, 20 ,-2 ,-4],\n",
    "            [3 ,4 , 40 ,-3 ,-2],\n",
    "            [-3 ,4 , -6, 90 ,10],\n",
    "            [25,45 ,34 ,22 ,12],\n",
    "            [1 ,24, 22 ,32, 37]])\n",
    "x[4]=-1\n",
    "print(\"Replaced Matrix\\n\\n\",+x,\"\\n\\n\")\n",
    "x[0:2,3:5]=x[0:2,3:5]*2\n",
    "print(\"Multiple 2x2 Matrix \\n\\n\",+x)"
   ]
  },
  {
   "source": [
    "# 6. ELEMENTS SELECTION (CONDITIONAL)"
   ],
   "cell_type": "markdown",
   "metadata": {
    "id": "juuMOEq7Col_"
   }
  },
  {
   "cell_type": "code",
   "execution_count": null,
   "metadata": {
    "id": "UujCvuhMCt4K"
   },
   "outputs": [],
   "source": []
  },
  {
   "cell_type": "code",
   "execution_count": null,
   "metadata": {
    "id": "JBgJ8ugyCvht"
   },
   "outputs": [],
   "source": []
  },
  {
   "cell_type": "code",
   "execution_count": null,
   "metadata": {
    "id": "TIQ-A7IBCvgl"
   },
   "outputs": [],
   "source": []
  },
  {
   "cell_type": "markdown",
   "metadata": {
    "id": "39QiMh-W8ogs"
   },
   "source": [
    "**MINI CHALLENGE #7:**\n",
    "- **In the following matrix, replace negative elements by 0 and replace odd elements with 25**\n",
    "\n",
    "\n",
    "```\n",
    "X = [2 30 20 -2 -4]\n",
    "    [3 4  40 -3 -2]\n",
    "    [-3 4 -6 90 10]\n",
    "    [25 45 34 22 12]\n",
    "    [13 24 22 32 37]\n",
    "```\n"
   ]
  },
  {
   "cell_type": "code",
   "execution_count": null,
   "metadata": {
    "id": "AbN-vySf9gen"
   },
   "outputs": [],
   "source": []
  },
  {
   "cell_type": "markdown",
   "metadata": {
    "id": "dakv7iPFgw7Y"
   },
   "source": [
    "# EXCELLENT JOB!"
   ]
  },
  {
   "cell_type": "markdown",
   "metadata": {
    "id": "pNWQrMz6KnIF"
   },
   "source": [
    "# MINI CHALLENGES SOLUTIONS"
   ]
  },
  {
   "cell_type": "markdown",
   "metadata": {
    "id": "6AMqSvtAKj6o"
   },
   "source": [
    "**MINI CHALLENGE #1 SOLUTION:** \n",
    "- **Write a code that creates the following 2x4 numpy array**\n",
    "\n",
    "```\n",
    "[[4 6 8 7] \n",
    "[20 5 6 9]]\n",
    "```"
   ]
  },
  {
   "cell_type": "code",
   "execution_count": null,
   "metadata": {
    "id": "ivvFzDy-KlQP"
   },
   "outputs": [],
   "source": [
    "x = np.array([[[4, 6, 8, 7] , [20, 5, 6, 9]]])\n",
    "x"
   ]
  },
  {
   "cell_type": "markdown",
   "metadata": {
    "id": "2GskzNkOMFu0"
   },
   "source": [
    "**MINI CHALLENGE #2 SOLUTION:**\n",
    "- **Write a code that takes in a number x from the user and creates a 1x20 array with random numbers ranging from 0 to x**"
   ]
  },
  {
   "cell_type": "code",
   "execution_count": null,
   "metadata": {
    "id": "0vnDfvwFMFu3"
   },
   "outputs": [],
   "source": [
    "x = int(input(\"Please enter a positive integer value: \"))\n",
    "x = np.random.randint(1, x, 20)\n",
    "x"
   ]
  },
  {
   "cell_type": "markdown",
   "metadata": {
    "id": "LOVruiHdMRMd"
   },
   "source": [
    "**MINI CHALLENGE #3 SOLUTION:**\n",
    "- **Write a code that creates a 4x5 array inwhich numbers ranging between 300 and 500 such that the difference between elements is 10**"
   ]
  },
  {
   "cell_type": "code",
   "execution_count": null,
   "metadata": {
    "id": "WtSncbsHMRMg"
   },
   "outputs": [],
   "source": [
    "x = np.arange(300, 500, 10)\n",
    "x.shape"
   ]
  },
  {
   "cell_type": "code",
   "execution_count": null,
   "metadata": {
    "id": "2_8vFVF7MRMp"
   },
   "outputs": [],
   "source": [
    "x = x.reshape(4, 5)\n",
    "print(x)"
   ]
  },
  {
   "cell_type": "markdown",
   "metadata": {
    "id": "NSuiOFRx1pSY"
   },
   "source": [
    "**MINI CHALLENGE #4 SOLUTION:**\n",
    "- **Write a code that creates a 20x20 numpy array of random values that ranges from -1000 to 1000 and obtain the maximum, minimum, and mean values** "
   ]
  },
  {
   "cell_type": "code",
   "execution_count": null,
   "metadata": {
    "id": "445Vi21GMYS7"
   },
   "outputs": [],
   "source": [
    "x = np.random.randint(-1000, 1000, (20, 20))\n",
    "print(x)\n",
    "print('The maximum value is: {} and the minimum value is:{}'.format(x.min(), x.max()))"
   ]
  },
  {
   "cell_type": "code",
   "execution_count": null,
   "metadata": {
    "id": "tIVL0uEr4xsC"
   },
   "outputs": [],
   "source": []
  },
  {
   "cell_type": "markdown",
   "metadata": {
    "id": "s1p4WaNB4yFf"
   },
   "source": [
    "**MINI CHALLENGE #5 SOLUTION:**\n",
    "- **Given the X and Y values below, obtain the distance between them**\n",
    "\n",
    "\n",
    "```\n",
    "X = [3, 20, 30]\n",
    "Y = [4, 6, 7]\n",
    "```\n",
    "\n",
    "\n"
   ]
  },
  {
   "cell_type": "code",
   "execution_count": null,
   "metadata": {
    "id": "_GJmf2Pl4yFi"
   },
   "outputs": [],
   "source": [
    "X = np.array([3, 20, 30])\n",
    "Y = np.array([4, 6, 7])\n",
    "Z = np.sqrt(X**2 + Y**2)\n",
    "Z"
   ]
  },
  {
   "cell_type": "markdown",
   "metadata": {
    "id": "EZ9i2CLm6Iuf"
   },
   "source": [
    "**MINI CHALLENGE #6 SOLUTION:**\n",
    "- **In the following matrix, replace the last row with -1**\n",
    "- **Multiply the 2x2 matrix in the upper right corner by 2**\n",
    "\n",
    "\n",
    "\n",
    "```\n",
    "X = [2 30 20 -2 -4]\n",
    "    [3 4  40 -3 -2]\n",
    "    [-3 4 -6 90 10]\n",
    "    [25 45 34 22 12]\n",
    "    [13 24 22 32 37]\n",
    "```\n",
    "\n",
    "\n"
   ]
  },
  {
   "cell_type": "code",
   "execution_count": null,
   "metadata": {
    "id": "qB7S_wIx6Hsm"
   },
   "outputs": [],
   "source": [
    "X = np.array([[2, 30, 20, -2, -4],\n",
    "    [3, 4,  40, -3, -2],\n",
    "    [-3, 4, -6, 90, 10],\n",
    "    [25, 45, 34, 22, 12],\n",
    "    [13, 24, 22, 32, 37]])\n"
   ]
  },
  {
   "cell_type": "code",
   "execution_count": null,
   "metadata": {
    "id": "y98hmGRe7Qtl"
   },
   "outputs": [],
   "source": [
    "X[4] = 0\n",
    "X"
   ]
  },
  {
   "cell_type": "code",
   "execution_count": null,
   "metadata": {
    "id": "6pLZ5lF87UFs"
   },
   "outputs": [],
   "source": [
    "X[:2, 3:]  = X[:2, 3:] * 2"
   ]
  },
  {
   "cell_type": "code",
   "execution_count": null,
   "metadata": {
    "id": "WsqjANlB8Kva"
   },
   "outputs": [],
   "source": [
    "X"
   ]
  },
  {
   "cell_type": "markdown",
   "metadata": {
    "id": "2oikl6JS9YUs"
   },
   "source": [
    "**MINI CHALLENGE #7 SOLUTION:**\n",
    "- **In the following matrix, replace negative elements by 0 and replace odd elements with 25**\n",
    "\n",
    "\n",
    "```\n",
    "X = [2 30 20 -2 -4]\n",
    "    [3 4  40 -3 -2]\n",
    "    [-3 4 -6 90 10]\n",
    "    [25 45 34 22 12]\n",
    "    [13 24 22 32 37]\n",
    "```\n"
   ]
  },
  {
   "cell_type": "code",
   "execution_count": null,
   "metadata": {
    "id": "h105KzGr9YUu"
   },
   "outputs": [],
   "source": [
    "X = np.array([[2, 30, 20, -2, -4],\n",
    "    [3, 4,  40, -3, -2],\n",
    "    [-3, 4, -6, 90, 10],\n",
    "    [25, 45, 34, 22, 12],\n",
    "    [13, 24, 22, 32, 37]])\n",
    "\n",
    "X[X%2==1] = 25\n",
    "X[X<0] = 0\n",
    "X"
   ]
  }
 ],
 "metadata": {
  "colab": {
   "collapsed_sections": [],
   "name": "7. Python 101 - Python Libraries for Data Analysis - Numpy Skeleton.ipynb",
   "provenance": []
  },
  "kernelspec": {
   "display_name": "Python 3",
   "language": "python",
   "name": "python3"
  },
  "language_info": {
   "codemirror_mode": {
    "name": "ipython",
    "version": 3
   },
   "file_extension": ".py",
   "mimetype": "text/x-python",
   "name": "python",
   "nbconvert_exporter": "python",
   "pygments_lexer": "ipython3",
   "version": "3.9.0-final"
  }
 },
 "nbformat": 4,
 "nbformat_minor": 4
}